{
 "cells": [
  {
   "cell_type": "markdown",
   "id": "cb9530a7-7dd6-42fb-ae47-92d4b052e4a6",
   "metadata": {},
   "source": [
    "# Track TSMC with TSM"
   ]
  },
  {
   "cell_type": "markdown",
   "id": "072ba31b-5686-46cb-aefc-417d95b61d88",
   "metadata": {},
   "source": [
    "### Libraries"
   ]
  },
  {
   "cell_type": "code",
   "execution_count": 1,
   "id": "fde4295b-2174-4901-a6e5-6a97a73e92f9",
   "metadata": {},
   "outputs": [],
   "source": [
    "# Import Libraries\n",
    "import yfinance as yf\n",
    "import pandas as pd\n",
    "import numpy as np\n",
    "from sklearn.model_selection import train_test_split\n",
    "from sklearn.preprocessing import StandardScaler\n",
    "from sklearn.linear_model import LogisticRegression  # or RandomForestRegressor etc.\n",
    "from sklearn.metrics import accuracy_score  # or mean_squared_error for regression\n",
    "from datetime import time\n",
    "from sklearn.model_selection import GridSearchCV\n",
    "from sklearn.svm import SVC  # SVM Classifier\n",
    "from sklearn.ensemble import RandomForestClassifier\n",
    "from imblearn.over_sampling import SMOTE\n",
    "from sklearn.model_selection import train_test_split\n",
    "from sklearn.preprocessing import StandardScaler\n",
    "import seaborn as sns\n",
    "import matplotlib.pyplot as plt\n",
    "from sklearn.linear_model import LinearRegression\n",
    "from sklearn.metrics import mean_absolute_error, mean_squared_error, r2_score"
   ]
  },
  {
   "cell_type": "markdown",
   "id": "bef3a413-1a2f-47dc-9a69-27b441957bf8",
   "metadata": {},
   "source": [
    "## Functions"
   ]
  },
  {
   "cell_type": "code",
   "execution_count": 3,
   "id": "2779ae1d-4870-4bc8-bf6c-c103bda1a582",
   "metadata": {},
   "outputs": [],
   "source": [
    "def fetch_data(ticker, timespan = '10y'):\n",
    "    data_temp = yf.download(ticker, period = timespan) #get data through API\n",
    "    data_temp.columns = ['_'.join(col).strip() if isinstance(col, tuple) else col for col in data_temp.columns] #flatten the multi-index in column\n",
    "    data_temp = data_temp.ffill() # remove rows with NaN\n",
    "    return data_temp"
   ]
  },
  {
   "cell_type": "code",
   "execution_count": 4,
   "id": "2c0b2782-ee9c-46f3-bdd4-d1a2bdfe4d53",
   "metadata": {},
   "outputs": [],
   "source": [
    "def fetch_data_span(ticker, start_time = \"2015-02-24\", end_time = \"2023-02-24\"):\n",
    "    data_temp = yf.download(ticker, start = start_time, end = end_time)\n",
    "    data_temp.columns = ['_'.join(col).strip() if isinstance(col, tuple) else col for col in data_temp.columns] #flatten the multi-index in column\n",
    "    data_temp = data_temp.ffill() # remove rows with NaN\n",
    "    return data_temp"
   ]
  },
  {
   "cell_type": "code",
   "execution_count": 5,
   "id": "836bd6b2-1c8b-4042-a640-155f18fa1340",
   "metadata": {},
   "outputs": [],
   "source": [
    "def get_pct_diff_lastnight(data, open_ticker, close_ticker):\n",
    "    prev_Close = data[close_ticker].shift(1)  # yesterday's close\n",
    "    return (data[open_ticker] - prev_Close) / prev_Close * 100  # today's open minus yesterday's close"
   ]
  },
  {
   "cell_type": "code",
   "execution_count": 10,
   "id": "06ae4cac-2d03-4e92-9cde-73782eaf88ba",
   "metadata": {},
   "outputs": [],
   "source": [
    "def get_pct_change_lastday(data, ticker):\n",
    "    pct_change = data[ticker].pct_change() * 100\n",
    "    return pct_change.shift(1)"
   ]
  },
  {
   "cell_type": "code",
   "execution_count": 12,
   "id": "0a71ce1e-6093-4e07-8a81-7a14a52928fa",
   "metadata": {},
   "outputs": [],
   "source": [
    "def get_data_lastday(data, ticker):\n",
    "    return data[ticker].shift(1)"
   ]
  },
  {
   "cell_type": "code",
   "execution_count": 14,
   "id": "58748e0e-eef0-4aee-93c5-33eb51c0e492",
   "metadata": {},
   "outputs": [],
   "source": [
    "# from GPT\n",
    "def get_volume_lastday(data, ticker):\n",
    "    vol_lastday = data[ticker].shift(1)\n",
    "    scaler = StandardScaler()\n",
    "    scaled = scaler.fit_transform(vol_lastday.values.reshape(-1, 1))\n",
    "    return pd.Series(scaled.flatten(), index=vol_lastday.index)"
   ]
  },
  {
   "cell_type": "code",
   "execution_count": 16,
   "id": "f5b5cb41-304d-4d58-81f0-d40d95a1fba2",
   "metadata": {},
   "outputs": [],
   "source": [
    "def get_diff_to_avg_lastday(data, ticker, timespan = 5):\n",
    "    avg = data[ticker].rolling(timespan).mean()\n",
    "    diff_to_avg = data[ticker] - avg\n",
    "    return diff_to_avg.shift(1)"
   ]
  },
  {
   "cell_type": "code",
   "execution_count": 18,
   "id": "0ea368fc-7fc6-42ae-8d6a-a600c5b37923",
   "metadata": {},
   "outputs": [],
   "source": [
    "def get_diff_label(data, openticker, closeticker, threshold = 0.004, timespan = 0):\n",
    "    df_temp = pd.DataFrame()\n",
    "    df_temp['diff'] = (data[closeticker].shift(timespan) - data[openticker]) / data[openticker]\n",
    "    conditions = [\n",
    "    df_temp['diff'] > threshold,\n",
    "    df_temp['diff'].between(- threshold, threshold),\n",
    "    df_temp['diff'] < - threshold\n",
    "    ]\n",
    "    choices = [1, 0, -1]\n",
    "    return pd.Series(np.select(conditions, choices), index=data.index)"
   ]
  },
  {
   "cell_type": "markdown",
   "id": "37b73416-0598-4643-8dda-94c1f07e8a44",
   "metadata": {},
   "source": [
    "## Introduce Data from: 2330, S&P500, VIX, SOX, TSM"
   ]
  },
  {
   "cell_type": "code",
   "execution_count": 78,
   "id": "73ae16e3-17f4-48c5-95ff-edcfb480601f",
   "metadata": {},
   "outputs": [
    {
     "name": "stderr",
     "output_type": "stream",
     "text": [
      "[*********************100%***********************]  3 of 3 completed"
     ]
    },
    {
     "name": "stdout",
     "output_type": "stream",
     "text": [
      "            TSM_change_lastday  TSM_vol_lastday  TSM_diff_to_5d_avg_lastday  \\\n",
      "Date                                                                          \n",
      "2015-02-24                 NaN              NaN                         NaN   \n",
      "2015-02-25                 NaN         1.446888                         NaN   \n",
      "2015-02-26            0.000000         0.279978                         NaN   \n",
      "2015-02-27           -1.437733        -0.309317                         NaN   \n",
      "2015-03-02           -0.607754        -0.108844                         NaN   \n",
      "2015-03-03            0.407643        -0.416088                   -0.116059   \n",
      "2015-03-04           -0.527798        -0.331037                   -0.132635   \n",
      "2015-03-05           -0.693891         0.075107                   -0.153738   \n",
      "2015-03-06            0.534327        -0.457930                   -0.022609   \n",
      "2015-03-09           -1.512676        -0.564722                   -0.235127   \n",
      "\n",
      "            TSM_close_lastday  \n",
      "Date                           \n",
      "2015-02-24                NaN  \n",
      "2015-02-25         597.816436  \n",
      "2015-02-26         594.910361  \n",
      "2015-02-27         585.836363  \n",
      "2015-03-02         582.275920  \n",
      "2015-03-03         585.837483  \n",
      "2015-03-04         581.637643  \n",
      "2015-03-05         577.051639  \n",
      "2015-03-06         580.669537  \n",
      "2015-03-09         570.869237  \n"
     ]
    },
    {
     "name": "stderr",
     "output_type": "stream",
     "text": [
      "\n"
     ]
    }
   ],
   "source": [
    "# fetch data\n",
    "data = pd.DataFrame()\n",
    "# data = fetch_data(ticker = ['^GSPC', '2330.TW', 'TSM', '^VIX', '^SOX'], timespan = '5y')\n",
    "data = fetch_data_span(ticker = ['2330.TW', 'TSM', 'USDTWD=X'], start_time = \"2015-02-24\", end_time = \"2023-02-24\")\n",
    "\n",
    "# print(data.head(), '\\n\\n============================')\n",
    "\n",
    "# data manipulation to get features\n",
    "df = pd.DataFrame()\n",
    "# df['2330_diff_lastnight'] = get_pct_diff_lastnight(data, 'Open_2330.TW', 'Close_2330.TW')\n",
    "# df['2330_diff_to_5d_avg_lastday'] = get_diff_to_avg_lastday(data, 'Close_2330.TW') #doesn't work with function\n",
    "\n",
    "# df['SP500_change_lastday'] = get_pct_change_lastday(data, 'Close_^GSPC')\n",
    "# df['SP500_vol_lastday'] = get_volume_lastday(data, 'Volume_^GSPC')\n",
    "# df['SP500_diff_to_5d_avg_lastday'] = get_diff_to_avg_lastday(data, 'Close_^GSPC')\n",
    "\n",
    "df['TSM_change_lastday'] = get_pct_change_lastday(data, 'Close_TSM')\n",
    "df['TSM_vol_lastday'] = get_volume_lastday(data, 'Volume_TSM')\n",
    "df['TSM_diff_to_5d_avg_lastday'] = get_diff_to_avg_lastday(data, 'Close_TSM')\n",
    "df['TSM_close_lastday'] = get_data_lastday(data, 'Close_TSM') * data['Close_USDTWD=X'] # Convert closing price into TWD\n",
    "\n",
    "\n",
    "# df['VIX_change_lastday'] = get_pct_change_lastday(data, 'Close_^VIX')\n",
    "# df['VIX_lastday'] = get_data_lastday(data, 'Close_^VIX')\n",
    "\n",
    "# df['SOX_change_lastday'] = get_pct_change_lastday(data, 'Close_^SOX')\n",
    "# df['SOX_lastday'] = get_data_lastday(data, 'Close_^SOX')\n",
    "\n",
    "\n",
    "print(df.head(10))\n"
   ]
  },
  {
   "cell_type": "code",
   "execution_count": 56,
   "id": "1633aa64-75d8-40fd-8aab-b59d510cb4b5",
   "metadata": {},
   "outputs": [
    {
     "name": "stdout",
     "output_type": "stream",
     "text": [
      "            TSM_change_lastday  TSM_vol_lastday  TSM_diff_to_5d_avg_lastday  \\\n",
      "Date                                                                          \n",
      "2015-02-24                 NaN              NaN                         NaN   \n",
      "2015-02-25                 NaN         1.446888                         NaN   \n",
      "2015-02-26            0.000000         0.279978                         NaN   \n",
      "2015-02-27           -1.437733        -0.309317                         NaN   \n",
      "2015-03-02           -0.607754        -0.108844                         NaN   \n",
      "\n",
      "            TSM_close_lastday       label  \n",
      "Date                                       \n",
      "2015-02-24                NaN  112.905342  \n",
      "2015-02-25         597.816436  115.522354  \n",
      "2015-02-26         594.910361  112.531487  \n",
      "2015-02-27         585.836363  112.531487  \n",
      "2015-03-02         582.275920  111.409912  \n"
     ]
    }
   ],
   "source": [
    "#get label\n",
    "# df['label_1d'] = get_diff_label(data, openticker = 'Open_2330.TW', closeticker = 'Close_2330.TW')\n",
    "df['label'] = data['Close_2330.TW']\n",
    "print(df.head())"
   ]
  },
  {
   "cell_type": "markdown",
   "id": "be7575ff-acde-492f-9529-28da922e1188",
   "metadata": {},
   "source": [
    "## Assign Labels Features\n",
    "### (S&P lastnight, vol; 2330 diff overnight; VIX lastnight; TSM lasnight changes, vol; SOX lastnight changes"
   ]
  },
  {
   "cell_type": "code",
   "execution_count": 59,
   "id": "e5037c25-19a8-4524-830b-930d15d206a5",
   "metadata": {},
   "outputs": [
    {
     "name": "stdout",
     "output_type": "stream",
     "text": [
      "X_train: 1666 y_train: 1666\n",
      "X_test: 417 y_test: 417\n",
      "=============================\n"
     ]
    }
   ],
   "source": [
    "# Clean the df\n",
    "df_clean = df.dropna()\n",
    "\n",
    "# Split your dataset first\n",
    "X = df_clean.drop(columns = ['label'])  # features\n",
    "y = df_clean['label']  # target\n",
    "\n",
    "X_train, X_test, y_train, y_test = train_test_split(X, y, test_size=0.2, random_state=42)\n",
    "print(\"X_train:\", len(X_train), \"y_train:\", len(y_train))\n",
    "print(\"X_test:\", len(X_test), \"y_test:\", len(y_test))\n",
    "print('=============================')\n",
    "\n",
    "# Scale features (recommended for SVM and others)\n",
    "# scaler = StandardScaler()\n",
    "# X_train = scaler.fit_transform(X_train)\n",
    "# X_test = scaler.transform(X_test)\n",
    "# print(\"X_train:\", len(X_train), \"y_train:\", len(y_train))\n",
    "# print(\"X_test:\", len(X_test), \"y_test:\", len(y_test))"
   ]
  },
  {
   "cell_type": "markdown",
   "id": "e6a5fcdb-f857-478d-94e2-ce9c5afdda44",
   "metadata": {},
   "source": [
    "## Check correlation between features"
   ]
  },
  {
   "cell_type": "code",
   "execution_count": 133,
   "id": "4e8c5a47-e71e-4710-ad44-d2c54b5549eb",
   "metadata": {},
   "outputs": [
    {
     "data": {
      "image/png": "[encoded data removed]",
      "text/plain": [
       "<Figure size 640x480 with 2 Axes>"
      ]
     },
     "metadata": {},
     "output_type": "display_data"
    }
   ],
   "source": [
    "corr = X.corr()\n",
    "sns.heatmap(corr, annot=True, cmap='coolwarm')\n",
    "plt.show()"
   ]
  },
  {
   "cell_type": "markdown",
   "id": "2600f06f-ce47-4d61-b621-9e8ef33de05d",
   "metadata": {},
   "source": [
    "## Train the Model with LinearRegression"
   ]
  },
  {
   "cell_type": "code",
   "execution_count": 62,
   "id": "e049f2d0-0295-4101-9827-d669d236f1eb",
   "metadata": {},
   "outputs": [
    {
     "data": {
      "text/html": [
       "<style>#sk-container-id-2 {\n",
       "  /* Definition of color scheme common for light and dark mode */\n",
       "  --sklearn-color-text: #000;\n",
       "  --sklearn-color-text-muted: #666;\n",
       "  --sklearn-color-line: gray;\n",
       "  /* Definition of color scheme for unfitted estimators */\n",
       "  --sklearn-color-unfitted-level-0: #fff5e6;\n",
       "  --sklearn-color-unfitted-level-1: #f6e4d2;\n",
       "  --sklearn-color-unfitted-level-2: #ffe0b3;\n",
       "  --sklearn-color-unfitted-level-3: chocolate;\n",
       "  /* Definition of color scheme for fitted estimators */\n",
       "  --sklearn-color-fitted-level-0: #f0f8ff;\n",
       "  --sklearn-color-fitted-level-1: #d4ebff;\n",
       "  --sklearn-color-fitted-level-2: #b3dbfd;\n",
       "  --sklearn-color-fitted-level-3: cornflowerblue;\n",
       "\n",
       "  /* Specific color for light theme */\n",
       "  --sklearn-color-text-on-default-background: var(--sg-text-color, var(--theme-code-foreground, var(--jp-content-font-color1, black)));\n",
       "  --sklearn-color-background: var(--sg-background-color, var(--theme-background, var(--jp-layout-color0, white)));\n",
       "  --sklearn-color-border-box: var(--sg-text-color, var(--theme-code-foreground, var(--jp-content-font-color1, black)));\n",
       "  --sklearn-color-icon: #696969;\n",
       "\n",
       "  @media (prefers-color-scheme: dark) {\n",
       "    /* Redefinition of color scheme for dark theme */\n",
       "    --sklearn-color-text-on-default-background: var(--sg-text-color, var(--theme-code-foreground, var(--jp-content-font-color1, white)));\n",
       "    --sklearn-color-background: var(--sg-background-color, var(--theme-background, var(--jp-layout-color0, #111)));\n",
       "    --sklearn-color-border-box: var(--sg-text-color, var(--theme-code-foreground, var(--jp-content-font-color1, white)));\n",
       "    --sklearn-color-icon: #878787;\n",
       "  }\n",
       "}\n",
       "\n",
       "#sk-container-id-2 {\n",
       "  color: var(--sklearn-color-text);\n",
       "}\n",
       "\n",
       "#sk-container-id-2 pre {\n",
       "  padding: 0;\n",
       "}\n",
       "\n",
       "#sk-container-id-2 input.sk-hidden--visually {\n",
       "  border: 0;\n",
       "  clip: rect(1px 1px 1px 1px);\n",
       "  clip: rect(1px, 1px, 1px, 1px);\n",
       "  height: 1px;\n",
       "  margin: -1px;\n",
       "  overflow: hidden;\n",
       "  padding: 0;\n",
       "  position: absolute;\n",
       "  width: 1px;\n",
       "}\n",
       "\n",
       "#sk-container-id-2 div.sk-dashed-wrapped {\n",
       "  border: 1px dashed var(--sklearn-color-line);\n",
       "  margin: 0 0.4em 0.5em 0.4em;\n",
       "  box-sizing: border-box;\n",
       "  padding-bottom: 0.4em;\n",
       "  background-color: var(--sklearn-color-background);\n",
       "}\n",
       "\n",
       "#sk-container-id-2 div.sk-container {\n",
       "  /* jupyter's `normalize.less` sets `[hidden] { display: none; }`\n",
       "     but bootstrap.min.css set `[hidden] { display: none !important; }`\n",
       "     so we also need the `!important` here to be able to override the\n",
       "     default hidden behavior on the sphinx rendered scikit-learn.org.\n",
       "     See: https://github.com/scikit-learn/scikit-learn/issues/21755 */\n",
       "  display: inline-block !important;\n",
       "  position: relative;\n",
       "}\n",
       "\n",
       "#sk-container-id-2 div.sk-text-repr-fallback {\n",
       "  display: none;\n",
       "}\n",
       "\n",
       "div.sk-parallel-item,\n",
       "div.sk-serial,\n",
       "div.sk-item {\n",
       "  /* draw centered vertical line to link estimators */\n",
       "  background-image: linear-gradient(var(--sklearn-color-text-on-default-background), var(--sklearn-color-text-on-default-background));\n",
       "  background-size: 2px 100%;\n",
       "  background-repeat: no-repeat;\n",
       "  background-position: center center;\n",
       "}\n",
       "\n",
       "/* Parallel-specific style estimator block */\n",
       "\n",
       "#sk-container-id-2 div.sk-parallel-item::after {\n",
       "  content: \"\";\n",
       "  width: 100%;\n",
       "  border-bottom: 2px solid var(--sklearn-color-text-on-default-background);\n",
       "  flex-grow: 1;\n",
       "}\n",
       "\n",
       "#sk-container-id-2 div.sk-parallel {\n",
       "  display: flex;\n",
       "  align-items: stretch;\n",
       "  justify-content: center;\n",
       "  background-color: var(--sklearn-color-background);\n",
       "  position: relative;\n",
       "}\n",
       "\n",
       "#sk-container-id-2 div.sk-parallel-item {\n",
       "  display: flex;\n",
       "  flex-direction: column;\n",
       "}\n",
       "\n",
       "#sk-container-id-2 div.sk-parallel-item:first-child::after {\n",
       "  align-self: flex-end;\n",
       "  width: 50%;\n",
       "}\n",
       "\n",
       "#sk-container-id-2 div.sk-parallel-item:last-child::after {\n",
       "  align-self: flex-start;\n",
       "  width: 50%;\n",
       "}\n",
       "\n",
       "#sk-container-id-2 div.sk-parallel-item:only-child::after {\n",
       "  width: 0;\n",
       "}\n",
       "\n",
       "/* Serial-specific style estimator block */\n",
       "\n",
       "#sk-container-id-2 div.sk-serial {\n",
       "  display: flex;\n",
       "  flex-direction: column;\n",
       "  align-items: center;\n",
       "  background-color: var(--sklearn-color-background);\n",
       "  padding-right: 1em;\n",
       "  padding-left: 1em;\n",
       "}\n",
       "\n",
       "\n",
       "/* Toggleable style: style used for estimator/Pipeline/ColumnTransformer box that is\n",
       "clickable and can be expanded/collapsed.\n",
       "- Pipeline and ColumnTransformer use this feature and define the default style\n",
       "- Estimators will overwrite some part of the style using the `sk-estimator` class\n",
       "*/\n",
       "\n",
       "/* Pipeline and ColumnTransformer style (default) */\n",
       "\n",
       "#sk-container-id-2 div.sk-toggleable {\n",
       "  /* Default theme specific background. It is overwritten whether we have a\n",
       "  specific estimator or a Pipeline/ColumnTransformer */\n",
       "  background-color: var(--sklearn-color-background);\n",
       "}\n",
       "\n",
       "/* Toggleable label */\n",
       "#sk-container-id-2 label.sk-toggleable__label {\n",
       "  cursor: pointer;\n",
       "  display: flex;\n",
       "  width: 100%;\n",
       "  margin-bottom: 0;\n",
       "  padding: 0.5em;\n",
       "  box-sizing: border-box;\n",
       "  text-align: center;\n",
       "  align-items: start;\n",
       "  justify-content: space-between;\n",
       "  gap: 0.5em;\n",
       "}\n",
       "\n",
       "#sk-container-id-2 label.sk-toggleable__label .caption {\n",
       "  font-size: 0.6rem;\n",
       "  font-weight: lighter;\n",
       "  color: var(--sklearn-color-text-muted);\n",
       "}\n",
       "\n",
       "#sk-container-id-2 label.sk-toggleable__label-arrow:before {\n",
       "  /* Arrow on the left of the label */\n",
       "  content: \"▸\";\n",
       "  float: left;\n",
       "  margin-right: 0.25em;\n",
       "  color: var(--sklearn-color-icon);\n",
       "}\n",
       "\n",
       "#sk-container-id-2 label.sk-toggleable__label-arrow:hover:before {\n",
       "  color: var(--sklearn-color-text);\n",
       "}\n",
       "\n",
       "/* Toggleable content - dropdown */\n",
       "\n",
       "#sk-container-id-2 div.sk-toggleable__content {\n",
       "  max-height: 0;\n",
       "  max-width: 0;\n",
       "  overflow: hidden;\n",
       "  text-align: left;\n",
       "  /* unfitted */\n",
       "  background-color: var(--sklearn-color-unfitted-level-0);\n",
       "}\n",
       "\n",
       "#sk-container-id-2 div.sk-toggleable__content.fitted {\n",
       "  /* fitted */\n",
       "  background-color: var(--sklearn-color-fitted-level-0);\n",
       "}\n",
       "\n",
       "#sk-container-id-2 div.sk-toggleable__content pre {\n",
       "  margin: 0.2em;\n",
       "  border-radius: 0.25em;\n",
       "  color: var(--sklearn-color-text);\n",
       "  /* unfitted */\n",
       "  background-color: var(--sklearn-color-unfitted-level-0);\n",
       "}\n",
       "\n",
       "#sk-container-id-2 div.sk-toggleable__content.fitted pre {\n",
       "  /* unfitted */\n",
       "  background-color: var(--sklearn-color-fitted-level-0);\n",
       "}\n",
       "\n",
       "#sk-container-id-2 input.sk-toggleable__control:checked~div.sk-toggleable__content {\n",
       "  /* Expand drop-down */\n",
       "  max-height: 200px;\n",
       "  max-width: 100%;\n",
       "  overflow: auto;\n",
       "}\n",
       "\n",
       "#sk-container-id-2 input.sk-toggleable__control:checked~label.sk-toggleable__label-arrow:before {\n",
       "  content: \"▾\";\n",
       "}\n",
       "\n",
       "/* Pipeline/ColumnTransformer-specific style */\n",
       "\n",
       "#sk-container-id-2 div.sk-label input.sk-toggleable__control:checked~label.sk-toggleable__label {\n",
       "  color: var(--sklearn-color-text);\n",
       "  background-color: var(--sklearn-color-unfitted-level-2);\n",
       "}\n",
       "\n",
       "#sk-container-id-2 div.sk-label.fitted input.sk-toggleable__control:checked~label.sk-toggleable__label {\n",
       "  background-color: var(--sklearn-color-fitted-level-2);\n",
       "}\n",
       "\n",
       "/* Estimator-specific style */\n",
       "\n",
       "/* Colorize estimator box */\n",
       "#sk-container-id-2 div.sk-estimator input.sk-toggleable__control:checked~label.sk-toggleable__label {\n",
       "  /* unfitted */\n",
       "  background-color: var(--sklearn-color-unfitted-level-2);\n",
       "}\n",
       "\n",
       "#sk-container-id-2 div.sk-estimator.fitted input.sk-toggleable__control:checked~label.sk-toggleable__label {\n",
       "  /* fitted */\n",
       "  background-color: var(--sklearn-color-fitted-level-2);\n",
       "}\n",
       "\n",
       "#sk-container-id-2 div.sk-label label.sk-toggleable__label,\n",
       "#sk-container-id-2 div.sk-label label {\n",
       "  /* The background is the default theme color */\n",
       "  color: var(--sklearn-color-text-on-default-background);\n",
       "}\n",
       "\n",
       "/* On hover, darken the color of the background */\n",
       "#sk-container-id-2 div.sk-label:hover label.sk-toggleable__label {\n",
       "  color: var(--sklearn-color-text);\n",
       "  background-color: var(--sklearn-color-unfitted-level-2);\n",
       "}\n",
       "\n",
       "/* Label box, darken color on hover, fitted */\n",
       "#sk-container-id-2 div.sk-label.fitted:hover label.sk-toggleable__label.fitted {\n",
       "  color: var(--sklearn-color-text);\n",
       "  background-color: var(--sklearn-color-fitted-level-2);\n",
       "}\n",
       "\n",
       "/* Estimator label */\n",
       "\n",
       "#sk-container-id-2 div.sk-label label {\n",
       "  font-family: monospace;\n",
       "  font-weight: bold;\n",
       "  display: inline-block;\n",
       "  line-height: 1.2em;\n",
       "}\n",
       "\n",
       "#sk-container-id-2 div.sk-label-container {\n",
       "  text-align: center;\n",
       "}\n",
       "\n",
       "/* Estimator-specific */\n",
       "#sk-container-id-2 div.sk-estimator {\n",
       "  font-family: monospace;\n",
       "  border: 1px dotted var(--sklearn-color-border-box);\n",
       "  border-radius: 0.25em;\n",
       "  box-sizing: border-box;\n",
       "  margin-bottom: 0.5em;\n",
       "  /* unfitted */\n",
       "  background-color: var(--sklearn-color-unfitted-level-0);\n",
       "}\n",
       "\n",
       "#sk-container-id-2 div.sk-estimator.fitted {\n",
       "  /* fitted */\n",
       "  background-color: var(--sklearn-color-fitted-level-0);\n",
       "}\n",
       "\n",
       "/* on hover */\n",
       "#sk-container-id-2 div.sk-estimator:hover {\n",
       "  /* unfitted */\n",
       "  background-color: var(--sklearn-color-unfitted-level-2);\n",
       "}\n",
       "\n",
       "#sk-container-id-2 div.sk-estimator.fitted:hover {\n",
       "  /* fitted */\n",
       "  background-color: var(--sklearn-color-fitted-level-2);\n",
       "}\n",
       "\n",
       "/* Specification for estimator info (e.g. \"i\" and \"?\") */\n",
       "\n",
       "/* Common style for \"i\" and \"?\" */\n",
       "\n",
       ".sk-estimator-doc-link,\n",
       "a:link.sk-estimator-doc-link,\n",
       "a:visited.sk-estimator-doc-link {\n",
       "  float: right;\n",
       "  font-size: smaller;\n",
       "  line-height: 1em;\n",
       "  font-family: monospace;\n",
       "  background-color: var(--sklearn-color-background);\n",
       "  border-radius: 1em;\n",
       "  height: 1em;\n",
       "  width: 1em;\n",
       "  text-decoration: none !important;\n",
       "  margin-left: 0.5em;\n",
       "  text-align: center;\n",
       "  /* unfitted */\n",
       "  border: var(--sklearn-color-unfitted-level-1) 1pt solid;\n",
       "  color: var(--sklearn-color-unfitted-level-1);\n",
       "}\n",
       "\n",
       ".sk-estimator-doc-link.fitted,\n",
       "a:link.sk-estimator-doc-link.fitted,\n",
       "a:visited.sk-estimator-doc-link.fitted {\n",
       "  /* fitted */\n",
       "  border: var(--sklearn-color-fitted-level-1) 1pt solid;\n",
       "  color: var(--sklearn-color-fitted-level-1);\n",
       "}\n",
       "\n",
       "/* On hover */\n",
       "div.sk-estimator:hover .sk-estimator-doc-link:hover,\n",
       ".sk-estimator-doc-link:hover,\n",
       "div.sk-label-container:hover .sk-estimator-doc-link:hover,\n",
       ".sk-estimator-doc-link:hover {\n",
       "  /* unfitted */\n",
       "  background-color: var(--sklearn-color-unfitted-level-3);\n",
       "  color: var(--sklearn-color-background);\n",
       "  text-decoration: none;\n",
       "}\n",
       "\n",
       "div.sk-estimator.fitted:hover .sk-estimator-doc-link.fitted:hover,\n",
       ".sk-estimator-doc-link.fitted:hover,\n",
       "div.sk-label-container:hover .sk-estimator-doc-link.fitted:hover,\n",
       ".sk-estimator-doc-link.fitted:hover {\n",
       "  /* fitted */\n",
       "  background-color: var(--sklearn-color-fitted-level-3);\n",
       "  color: var(--sklearn-color-background);\n",
       "  text-decoration: none;\n",
       "}\n",
       "\n",
       "/* Span, style for the box shown on hovering the info icon */\n",
       ".sk-estimator-doc-link span {\n",
       "  display: none;\n",
       "  z-index: 9999;\n",
       "  position: relative;\n",
       "  font-weight: normal;\n",
       "  right: .2ex;\n",
       "  padding: .5ex;\n",
       "  margin: .5ex;\n",
       "  width: min-content;\n",
       "  min-width: 20ex;\n",
       "  max-width: 50ex;\n",
       "  color: var(--sklearn-color-text);\n",
       "  box-shadow: 2pt 2pt 4pt #999;\n",
       "  /* unfitted */\n",
       "  background: var(--sklearn-color-unfitted-level-0);\n",
       "  border: .5pt solid var(--sklearn-color-unfitted-level-3);\n",
       "}\n",
       "\n",
       ".sk-estimator-doc-link.fitted span {\n",
       "  /* fitted */\n",
       "  background: var(--sklearn-color-fitted-level-0);\n",
       "  border: var(--sklearn-color-fitted-level-3);\n",
       "}\n",
       "\n",
       ".sk-estimator-doc-link:hover span {\n",
       "  display: block;\n",
       "}\n",
       "\n",
       "/* \"?\"-specific style due to the `<a>` HTML tag */\n",
       "\n",
       "#sk-container-id-2 a.estimator_doc_link {\n",
       "  float: right;\n",
       "  font-size: 1rem;\n",
       "  line-height: 1em;\n",
       "  font-family: monospace;\n",
       "  background-color: var(--sklearn-color-background);\n",
       "  border-radius: 1rem;\n",
       "  height: 1rem;\n",
       "  width: 1rem;\n",
       "  text-decoration: none;\n",
       "  /* unfitted */\n",
       "  color: var(--sklearn-color-unfitted-level-1);\n",
       "  border: var(--sklearn-color-unfitted-level-1) 1pt solid;\n",
       "}\n",
       "\n",
       "#sk-container-id-2 a.estimator_doc_link.fitted {\n",
       "  /* fitted */\n",
       "  border: var(--sklearn-color-fitted-level-1) 1pt solid;\n",
       "  color: var(--sklearn-color-fitted-level-1);\n",
       "}\n",
       "\n",
       "/* On hover */\n",
       "#sk-container-id-2 a.estimator_doc_link:hover {\n",
       "  /* unfitted */\n",
       "  background-color: var(--sklearn-color-unfitted-level-3);\n",
       "  color: var(--sklearn-color-background);\n",
       "  text-decoration: none;\n",
       "}\n",
       "\n",
       "#sk-container-id-2 a.estimator_doc_link.fitted:hover {\n",
       "  /* fitted */\n",
       "  background-color: var(--sklearn-color-fitted-level-3);\n",
       "}\n",
       "</style><div id=\"sk-container-id-2\" class=\"sk-top-container\"><div class=\"sk-text-repr-fallback\"><pre>LinearRegression()</pre><b>In a Jupyter environment, please rerun this cell to show the HTML representation or trust the notebook. <br />On GitHub, the HTML representation is unable to render, please try loading this page with nbviewer.org.</b></div><div class=\"sk-container\" hidden><div class=\"sk-item\"><div class=\"sk-estimator fitted sk-toggleable\"><input class=\"sk-toggleable__control sk-hidden--visually\" id=\"sk-estimator-id-2\" type=\"checkbox\" checked><label for=\"sk-estimator-id-2\" class=\"sk-toggleable__label fitted sk-toggleable__label-arrow\"><div><div>LinearRegression</div></div><div><a class=\"sk-estimator-doc-link fitted\" rel=\"noreferrer\" target=\"_blank\" href=\"https://scikit-learn.org/1.6/modules/generated/sklearn.linear_model.LinearRegression.html\">?<span>Documentation for LinearRegression</span></a><span class=\"sk-estimator-doc-link fitted\">i<span>Fitted</span></span></div></label><div class=\"sk-toggleable__content fitted\"><pre>LinearRegression()</pre></div> </div></div></div></div>"
      ],
      "text/plain": [
       "LinearRegression()"
      ]
     },
     "execution_count": 62,
     "metadata": {},
     "output_type": "execute_result"
    }
   ],
   "source": [
    "model = LinearRegression()\n",
    "model.fit(X_train, y_train)"
   ]
  },
  {
   "cell_type": "markdown",
   "id": "fddcde95-5536-429c-a0c2-024fcc6f26b5",
   "metadata": {},
   "source": [
    "## Evaluate the Result"
   ]
  },
  {
   "cell_type": "code",
   "execution_count": 65,
   "id": "fc90e2ed-0024-4819-9077-ae9697c3371e",
   "metadata": {},
   "outputs": [
    {
     "name": "stdout",
     "output_type": "stream",
     "text": [
      "MAE: 7.529, RMSE: 136.391, R²: 0.995\n"
     ]
    }
   ],
   "source": [
    "y_pred = model.predict(X_test)\n",
    "mae = mean_absolute_error(y_test, y_pred)\n",
    "rmse = mean_squared_error(y_test, y_pred)\n",
    "r2 = r2_score(y_test, y_pred)\n",
    "\n",
    "print(f'MAE: {mae:.3f}, RMSE: {rmse:.3f}, R²: {r2:.3f}')"
   ]
  },
  {
   "cell_type": "code",
   "execution_count": 67,
   "id": "87e13ce7-b854-4058-a55b-6ac1c2a27c94",
   "metadata": {},
   "outputs": [
    {
     "data": {
      "image/png": "[encoded data removed]",
      "text/plain": [
       "<Figure size 600x600 with 1 Axes>"
      ]
     },
     "metadata": {},
     "output_type": "display_data"
    }
   ],
   "source": [
    "plt.figure(figsize=(6,6))\n",
    "plt.scatter(y_test, y_pred, alpha=0.5)\n",
    "plt.plot([y_test.min(), y_test.max()], [y_test.min(), y_test.max()], 'r--')  # perfect prediction line\n",
    "plt.xlabel('Actual')\n",
    "plt.ylabel('Predicted')\n",
    "plt.title('Predicted vs Actual')\n",
    "plt.grid(True)\n",
    "plt.show()"
   ]
  },
  {
   "cell_type": "markdown",
   "id": "6ee8f350-7ce4-49c5-8cf5-6a66e83100ba",
   "metadata": {},
   "source": [
    "# Test run on seperate data"
   ]
  },
  {
   "cell_type": "code",
   "execution_count": 74,
   "id": "16fc182e-0b5c-4bd8-b697-a4469c8466dd",
   "metadata": {},
   "outputs": [
    {
     "name": "stderr",
     "output_type": "stream",
     "text": [
      "[*********************100%***********************]  3 of 3 completed"
     ]
    },
    {
     "name": "stdout",
     "output_type": "stream",
     "text": [
      "            TSM_change_lastday  TSM_vol_lastday  TSM_diff_to_5d_avg_lastday  \\\n",
      "Date                                                                          \n",
      "2023-03-06            0.853658        -0.277040                    1.414409   \n",
      "2023-03-07           -0.233887        -0.394165                    0.772719   \n",
      "2023-03-08           -0.814923        -0.553012                   -0.273637   \n",
      "2023-03-09            2.228478        -0.546136                    1.169670   \n",
      "2023-03-10           -2.146884        -0.341870                   -0.680237   \n",
      "\n",
      "            TSM_close_lastday       label  \n",
      "Date                                       \n",
      "2023-03-06        2638.480954  501.753296  \n",
      "2023-03-07        2638.903981  504.642517  \n",
      "2023-03-08        2630.350974  501.753296  \n",
      "2023-03-09        2688.836559  502.716400  \n",
      "2023-03-10        2638.740399  494.048859  \n",
      "X_test_run: 515 y_test_run_pred: 515\n",
      "MAE: 40.507, RMSE: 3194.697, R²: 0.934\n"
     ]
    },
    {
     "name": "stderr",
     "output_type": "stream",
     "text": [
      "\n"
     ]
    }
   ],
   "source": [
    "test_run_data = pd.DataFrame()\n",
    "test_run_data = fetch_data_span(ticker = ['2330.TW', 'TSM', 'USDTWD=X'], start_time = \"2023-02-25\", end_time = \"2025-02-25\")\n",
    "\n",
    "test_run_df = pd.DataFrame()\n",
    "test_run_df['TSM_change_lastday'] = get_pct_change_lastday(test_run_data, 'Close_TSM')\n",
    "test_run_df['TSM_vol_lastday'] = get_volume_lastday(test_run_data, 'Volume_TSM')\n",
    "test_run_df['TSM_diff_to_5d_avg_lastday'] = get_diff_to_avg_lastday(test_run_data, 'Close_TSM')\n",
    "test_run_df['TSM_close_lastday'] = get_data_lastday(test_run_data, 'Close_TSM') * test_run_data['Close_USDTWD=X']\n",
    "test_run_df['label'] = test_run_data['Close_2330.TW']\n",
    "test_run_df_clean = test_run_df.dropna()\n",
    "\n",
    "print(test_run_df_clean.head())\n",
    "\n",
    "X_test_run = test_run_df_clean.drop(columns = ['label'])\n",
    "y_test_run_pred = model.predict(X_test_run)\n",
    "y_test_run = test_run_df_clean['label']\n",
    "\n",
    "print(\"X_test_run:\", len(X_test_run), \"y_test_run_pred:\", len(y_test_run_pred))\n",
    "\n",
    "\n",
    "mae = mean_absolute_error(y_test_run, y_test_run_pred)\n",
    "rmse = mean_squared_error(y_test_run, y_test_run_pred)\n",
    "r2 = r2_score(y_test_run, y_test_run_pred)\n",
    "\n",
    "print(f'MAE: {mae:.3f}, RMSE: {rmse:.3f}, R²: {r2:.3f}')"
   ]
  },
  {
   "cell_type": "code",
   "execution_count": 76,
   "id": "d598a4d9-0bb9-4250-801a-15fff5e8b085",
   "metadata": {},
   "outputs": [
    {
     "data": {
      "image/png": "[encoded data removed]",
      "text/plain": [
       "<Figure size 600x600 with 1 Axes>"
      ]
     },
     "metadata": {},
     "output_type": "display_data"
    }
   ],
   "source": [
    "plt.figure(figsize=(6,6))\n",
    "plt.scatter(y_test_run, y_test_run_pred, alpha=0.5)\n",
    "plt.plot([y_test_run.min(), y_test_run.max()], [y_test_run.min(), y_test_run.max()], 'r--')  # perfect prediction line\n",
    "plt.xlabel('Actual')\n",
    "plt.ylabel('Predicted')\n",
    "plt.title('Predicted vs Actual')\n",
    "plt.grid(True)\n",
    "plt.show()"
   ]
  },
  {
   "cell_type": "markdown",
   "id": "051ce273-0530-4b3d-a7b0-c461a2d42b94",
   "metadata": {
    "jp-MarkdownHeadingCollapsed": true
   },
   "source": [
    "## Feature Importance"
   ]
  },
  {
   "cell_type": "code",
   "execution_count": 100,
   "id": "49d4c10e-4ca8-4516-8646-afea993cdced",
   "metadata": {},
   "outputs": [
    {
     "ename": "AttributeError",
     "evalue": "'LinearRegression' object has no attribute 'feature_importances_'",
     "output_type": "error",
     "traceback": [
      "\u001b[0;31m---------------------------------------------------------------------------\u001b[0m",
      "\u001b[0;31mAttributeError\u001b[0m                            Traceback (most recent call last)",
      "Cell \u001b[0;32mIn[100], line 1\u001b[0m\n\u001b[0;32m----> 1\u001b[0m importances \u001b[38;5;241m=\u001b[39m model\u001b[38;5;241m.\u001b[39mfeature_importances_\n\u001b[1;32m      2\u001b[0m \u001b[38;5;28mprint\u001b[39m(\u001b[38;5;28mtype\u001b[39m(importances))\n\u001b[1;32m      3\u001b[0m \u001b[38;5;28mprint\u001b[39m(importances)\n",
      "\u001b[0;31mAttributeError\u001b[0m: 'LinearRegression' object has no attribute 'feature_importances_'"
     ]
    }
   ],
   "source": [
    "importances = model.feature_importances_\n",
    "print(type(importances))\n",
    "print(importances)"
   ]
  },
  {
   "cell_type": "markdown",
   "id": "5dae0962-3d68-46ed-a1c3-b045d04a60d3",
   "metadata": {
    "jp-MarkdownHeadingCollapsed": true
   },
   "source": [
    "## Try finding Best-performing Hyper-perimeter"
   ]
  },
  {
   "cell_type": "code",
   "execution_count": null,
   "id": "8f4d34e3-4a1b-43b0-aaa3-60f7fc230c06",
   "metadata": {},
   "outputs": [],
   "source": [
    "param_grid = {\n",
    "    'C': [0.1, 1, 10],\n",
    "    'kernel': ['rbf', 'poly', 'linear'],\n",
    "    'gamma': ['scale', 'auto', 0.01, 0.001]\n",
    "}\n",
    "\n",
    "grid = GridSearchCV(SVC(), param_grid, cv=5, scoring='accuracy')\n",
    "grid.fit(X_train, y_train)\n",
    "\n",
    "print(\"Best parameters:\", grid.best_params_)\n",
    "print(\"Best score:\", grid.best_score_)"
   ]
  },
  {
   "cell_type": "markdown",
   "id": "7b9caea8-2558-4145-acab-1ced18dbc62c",
   "metadata": {},
   "source": [
    "## Potential Idea for features"
   ]
  },
  {
   "cell_type": "markdown",
   "id": "4751ee80-1e25-48f8-9dca-80d8144622f8",
   "metadata": {},
   "source": [
    "instead of 2330, use different stocks/ indexs\n",
    "\n",
    "more diff to avg(5d, w, m, y, 10y) data as features?\n",
    "\n",
    "instead of indexes, use higher/ more direct related stocks\n",
    "\n",
    "create test for real return\n"
   ]
  },
  {
   "cell_type": "code",
   "execution_count": null,
   "id": "688dbc92-d3b0-4cf8-ac9c-266d1262da57",
   "metadata": {},
   "outputs": [],
   "source": []
  }
 ],
 "metadata": {
  "kernelspec": {
   "display_name": "Python 3 (ipykernel)",
   "language": "python",
   "name": "python3"
  },
  "language_info": {
   "codemirror_mode": {
    "name": "ipython",
    "version": 3
   },
   "file_extension": ".py",
   "mimetype": "text/x-python",
   "name": "python",
   "nbconvert_exporter": "python",
   "pygments_lexer": "ipython3",
   "version": "3.11.5"
  }
 },
 "nbformat": 4,
 "nbformat_minor": 5
}
